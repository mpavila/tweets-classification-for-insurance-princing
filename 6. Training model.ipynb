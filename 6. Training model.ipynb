{
 "cells": [
  {
   "cell_type": "markdown",
   "metadata": {},
   "source": [
    "# Training experiments"
   ]
  },
  {
   "cell_type": "markdown",
   "metadata": {},
   "source": [
    "### Non pre-processed tweets"
   ]
  },
  {
   "cell_type": "code",
   "execution_count": null,
   "metadata": {},
   "outputs": [],
   "source": [
    "!biome.classifier datasource new nopreprocessedDroppedNs-vf --input tokens=\"Tweet Text\" --label label --validation 0.2 --test 0.0 --source datasets/annotations.csv --overwrite"
   ]
  },
  {
   "cell_type": "code",
   "execution_count": null,
   "metadata": {},
   "outputs": [],
   "source": [
    "!biome.classifier learn new nopreprocessedDroppedNs-lstm-vf --ds nopreprocessedDroppedNs-vf --model lstm"
   ]
  },
  {
   "cell_type": "code",
   "execution_count": null,
   "metadata": {},
   "outputs": [],
   "source": [
    "!biome.classifier learn new nopreprocessedDroppedNs-gru-vf --ds nopreprocessedDroppedNs-vf --model gru"
   ]
  },
  {
   "cell_type": "markdown",
   "metadata": {},
   "source": [
    "### re-processed tweets"
   ]
  },
  {
   "cell_type": "code",
   "execution_count": null,
   "metadata": {},
   "outputs": [],
   "source": [
    "!biome.classifier datasource new preprocessedDroppedNs-vf --input tokens=\"preprocessed_tweet\" --label label --validation 0.2 --source datasets/annotations.csv --overwrite"
   ]
  },
  {
   "cell_type": "code",
   "execution_count": null,
   "metadata": {},
   "outputs": [],
   "source": [
    "!biome.classifier learn new preprocessedDroppedNs-lstm-vf --ds preprocessedDroppedNs-vf --model lstm"
   ]
  },
  {
   "cell_type": "code",
   "execution_count": null,
   "metadata": {},
   "outputs": [],
   "source": [
    "!biome.classifier learn new preprocessedDroppedNs-gru-vf --ds preprocessedDroppedNs-vf --model gru"
   ]
  },
  {
   "cell_type": "markdown",
   "metadata": {},
   "source": [
    "# Training final model"
   ]
  },
  {
   "cell_type": "code",
   "execution_count": null,
   "metadata": {},
   "outputs": [],
   "source": [
    "!biome.classifier datasource new preprocessed-final --input tokens=\"preprocessed_tweet\" --label label --validation 0.2 --test 0.1 --source datasets/annotations.csv --overwrite"
   ]
  },
  {
   "cell_type": "code",
   "execution_count": null,
   "metadata": {},
   "outputs": [],
   "source": [
    "!biome.classifier learn new preprocessedDroppedNs-lstm-no-trainable-final --ds preprocessed-final --model lstm_trainable-cls"
   ]
  },
  {
   "cell_type": "code",
   "execution_count": null,
   "metadata": {},
   "outputs": [],
   "source": [
    "!biome.classifier explore new --ds preprocessed-final --predict-with preprocessedDroppedNs-lstm-no-trainable-final --interpret"
   ]
  }
 ],
 "metadata": {
  "kernelspec": {
   "display_name": "Python 3",
   "language": "python",
   "name": "python3"
  },
  "language_info": {
   "codemirror_mode": {
    "name": "ipython",
    "version": 3
   },
   "file_extension": ".py",
   "mimetype": "text/x-python",
   "name": "python",
   "nbconvert_exporter": "python",
   "pygments_lexer": "ipython3",
   "version": "3.7.6"
  }
 },
 "nbformat": 4,
 "nbformat_minor": 4
}
