{
 "cells": [
  {
   "cell_type": "markdown",
   "metadata": {},
   "source": [
    "# Evaluate correlation"
   ]
  },
  {
   "cell_type": "markdown",
   "metadata": {},
   "source": [
    "## 1. Mortality rate"
   ]
  },
  {
   "cell_type": "markdown",
   "metadata": {},
   "source": [
    "### Import data"
   ]
  },
  {
   "cell_type": "code",
   "execution_count": 1,
   "metadata": {},
   "outputs": [],
   "source": [
    "import pandas as pd"
   ]
  },
  {
   "cell_type": "code",
   "execution_count": null,
   "metadata": {},
   "outputs": [],
   "source": [
    "df = pd.read_csv('datasets/Consolidado_TM.csv', sep=';', decimal=\",\")\n",
    "df.head()"
   ]
  },
  {
   "cell_type": "markdown",
   "metadata": {},
   "source": [
    "### Data normalization: simple feature scaling"
   ]
  },
  {
   "cell_type": "code",
   "execution_count": 78,
   "metadata": {},
   "outputs": [
    {
     "data": {
      "text/html": [
       "<div>\n",
       "<style scoped>\n",
       "    .dataframe tbody tr th:only-of-type {\n",
       "        vertical-align: middle;\n",
       "    }\n",
       "\n",
       "    .dataframe tbody tr th {\n",
       "        vertical-align: top;\n",
       "    }\n",
       "\n",
       "    .dataframe thead th {\n",
       "        text-align: right;\n",
       "    }\n",
       "</style>\n",
       "<table border=\"1\" class=\"dataframe\">\n",
       "  <thead>\n",
       "    <tr style=\"text-align: right;\">\n",
       "      <th></th>\n",
       "      <th>Departamento</th>\n",
       "      <th>Categoria</th>\n",
       "      <th>Cod_ Dpto</th>\n",
       "      <th>Grupo de edad</th>\n",
       "      <th>Población Ambos Sexos 2018</th>\n",
       "      <th>Defunciones Ambos Sexos 2018</th>\n",
       "      <th>TM Ambos Sexos</th>\n",
       "      <th>tm_normalized</th>\n",
       "    </tr>\n",
       "  </thead>\n",
       "  <tbody>\n",
       "    <tr>\n",
       "      <th>0</th>\n",
       "      <td>Quindío</td>\n",
       "      <td>Urbana</td>\n",
       "      <td>63</td>\n",
       "      <td>20-49</td>\n",
       "      <td>229.910</td>\n",
       "      <td>271</td>\n",
       "      <td>0.001179</td>\n",
       "      <td>1.000000</td>\n",
       "    </tr>\n",
       "    <tr>\n",
       "      <th>1</th>\n",
       "      <td>Risaralda</td>\n",
       "      <td>Urbana</td>\n",
       "      <td>66</td>\n",
       "      <td>20-49</td>\n",
       "      <td>405.408</td>\n",
       "      <td>463</td>\n",
       "      <td>0.001142</td>\n",
       "      <td>0.968896</td>\n",
       "    </tr>\n",
       "    <tr>\n",
       "      <th>2</th>\n",
       "      <td>Valle del Cauca</td>\n",
       "      <td>Urbana</td>\n",
       "      <td>76</td>\n",
       "      <td>20-49</td>\n",
       "      <td>1.868.737</td>\n",
       "      <td>2.086</td>\n",
       "      <td>0.001116</td>\n",
       "      <td>0.947010</td>\n",
       "    </tr>\n",
       "    <tr>\n",
       "      <th>3</th>\n",
       "      <td>Atlántico</td>\n",
       "      <td>Urbana</td>\n",
       "      <td>8</td>\n",
       "      <td>20-49</td>\n",
       "      <td>1.100.761</td>\n",
       "      <td>1.184</td>\n",
       "      <td>0.001076</td>\n",
       "      <td>0.912531</td>\n",
       "    </tr>\n",
       "    <tr>\n",
       "      <th>4</th>\n",
       "      <td>Magdalena</td>\n",
       "      <td>Urbana</td>\n",
       "      <td>47</td>\n",
       "      <td>20-49</td>\n",
       "      <td>553.066</td>\n",
       "      <td>569</td>\n",
       "      <td>0.001029</td>\n",
       "      <td>0.872818</td>\n",
       "    </tr>\n",
       "  </tbody>\n",
       "</table>\n",
       "</div>"
      ],
      "text/plain": [
       "      Departamento Categoria  Cod_ Dpto Grupo de edad  \\\n",
       "0          Quindío    Urbana         63         20-49   \n",
       "1        Risaralda    Urbana         66         20-49   \n",
       "2  Valle del Cauca    Urbana         76         20-49   \n",
       "3        Atlántico    Urbana          8         20-49   \n",
       "4        Magdalena    Urbana         47         20-49   \n",
       "\n",
       "  Población Ambos Sexos 2018 Defunciones Ambos Sexos 2018  TM Ambos Sexos  \\\n",
       "0                    229.910                          271        0.001179   \n",
       "1                    405.408                          463        0.001142   \n",
       "2                  1.868.737                        2.086        0.001116   \n",
       "3                  1.100.761                        1.184        0.001076   \n",
       "4                    553.066                          569        0.001029   \n",
       "\n",
       "   tm_normalized  \n",
       "0       1.000000  \n",
       "1       0.968896  \n",
       "2       0.947010  \n",
       "3       0.912531  \n",
       "4       0.872818  "
      ]
     },
     "execution_count": 78,
     "metadata": {},
     "output_type": "execute_result"
    }
   ],
   "source": [
    "df[\"tm_normalized\"]= df[\"TM Ambos Sexos\"]/df[\"TM Ambos Sexos\"].max()\n",
    "df.head()"
   ]
  },
  {
   "cell_type": "code",
   "execution_count": 136,
   "metadata": {},
   "outputs": [],
   "source": [
    "import matplotlib.pyplot as plt"
   ]
  },
  {
   "cell_type": "code",
   "execution_count": null,
   "metadata": {},
   "outputs": [],
   "source": [
    "ax = df.plot.bar(x='Departamento', y='tm_normalized', rot=90, facecolor='#9999ff')"
   ]
  },
  {
   "cell_type": "markdown",
   "metadata": {},
   "source": [
    "## 2. Model results"
   ]
  },
  {
   "cell_type": "code",
   "execution_count": 168,
   "metadata": {},
   "outputs": [],
   "source": [
    "mr = pd.read_csv('datasets/Model_result_departament.csv').sort_values('vmd')"
   ]
  },
  {
   "cell_type": "code",
   "execution_count": 169,
   "metadata": {},
   "outputs": [],
   "source": [
    "mr[\"vmd_normalized\"]= mr[\"vmd\"]/mr[\"vmd\"].max()"
   ]
  },
  {
   "cell_type": "code",
   "execution_count": 186,
   "metadata": {},
   "outputs": [],
   "source": [
    "mr = mr.drop(mr[mr.Location_clean == 'No aplica'].index)"
   ]
  },
  {
   "cell_type": "code",
   "execution_count": 187,
   "metadata": {},
   "outputs": [
    {
     "data": {
      "image/png": "[encoded data removed]",
      "text/plain": [
       "<Figure size 432x288 with 1 Axes>"
      ]
     },
     "metadata": {
      "needs_background": "light"
     },
     "output_type": "display_data"
    }
   ],
   "source": [
    "ax = mr.plot.bar(x='Location_clean', y='vmd', rot=90, facecolor='#9999ff'); ax.figure.savefig('model_value.png', dpi=300, bbox_inches='tight')"
   ]
  },
  {
   "cell_type": "markdown",
   "metadata": {},
   "source": [
    "## 3. Merge dataframes"
   ]
  },
  {
   "cell_type": "code",
   "execution_count": 171,
   "metadata": {},
   "outputs": [
    {
     "data": {
      "text/plain": [
       "31"
      ]
     },
     "execution_count": 171,
     "metadata": {},
     "output_type": "execute_result"
    }
   ],
   "source": [
    "merge = pd.merge(df, mr, left_on='Departamento', right_on='Location_clean'); len(merge) # se omite Guanía y Vaupés por su mortalidad atípica"
   ]
  },
  {
   "cell_type": "code",
   "execution_count": 172,
   "metadata": {},
   "outputs": [
    {
     "data": {
      "text/html": [
       "<div>\n",
       "<style scoped>\n",
       "    .dataframe tbody tr th:only-of-type {\n",
       "        vertical-align: middle;\n",
       "    }\n",
       "\n",
       "    .dataframe tbody tr th {\n",
       "        vertical-align: top;\n",
       "    }\n",
       "\n",
       "    .dataframe thead th {\n",
       "        text-align: right;\n",
       "    }\n",
       "</style>\n",
       "<table border=\"1\" class=\"dataframe\">\n",
       "  <thead>\n",
       "    <tr style=\"text-align: right;\">\n",
       "      <th></th>\n",
       "      <th>Departamento</th>\n",
       "      <th>Categoria</th>\n",
       "      <th>Cod_ Dpto</th>\n",
       "      <th>Grupo de edad</th>\n",
       "      <th>Población Ambos Sexos 2018</th>\n",
       "      <th>Defunciones Ambos Sexos 2018</th>\n",
       "      <th>TM Ambos Sexos</th>\n",
       "      <th>tm_normalized</th>\n",
       "      <th>Location_clean</th>\n",
       "      <th>healthy_tweets</th>\n",
       "      <th>Total_tweets</th>\n",
       "      <th>vmd</th>\n",
       "      <th>vmd_normalized</th>\n",
       "    </tr>\n",
       "  </thead>\n",
       "  <tbody>\n",
       "    <tr>\n",
       "      <th>0</th>\n",
       "      <td>Quindío</td>\n",
       "      <td>Urbana</td>\n",
       "      <td>63</td>\n",
       "      <td>20-49</td>\n",
       "      <td>229.910</td>\n",
       "      <td>271</td>\n",
       "      <td>0.001179</td>\n",
       "      <td>1.000000</td>\n",
       "      <td>Quindío</td>\n",
       "      <td>82.0</td>\n",
       "      <td>336.0</td>\n",
       "      <td>0.244048</td>\n",
       "      <td>0.880952</td>\n",
       "    </tr>\n",
       "    <tr>\n",
       "      <th>1</th>\n",
       "      <td>Risaralda</td>\n",
       "      <td>Urbana</td>\n",
       "      <td>66</td>\n",
       "      <td>20-49</td>\n",
       "      <td>405.408</td>\n",
       "      <td>463</td>\n",
       "      <td>0.001142</td>\n",
       "      <td>0.968896</td>\n",
       "      <td>Risaralda</td>\n",
       "      <td>79.0</td>\n",
       "      <td>420.0</td>\n",
       "      <td>0.188095</td>\n",
       "      <td>0.678978</td>\n",
       "    </tr>\n",
       "    <tr>\n",
       "      <th>2</th>\n",
       "      <td>Valle del Cauca</td>\n",
       "      <td>Urbana</td>\n",
       "      <td>76</td>\n",
       "      <td>20-49</td>\n",
       "      <td>1.868.737</td>\n",
       "      <td>2.086</td>\n",
       "      <td>0.001116</td>\n",
       "      <td>0.947010</td>\n",
       "      <td>Valle del Cauca</td>\n",
       "      <td>167.0</td>\n",
       "      <td>631.0</td>\n",
       "      <td>0.264659</td>\n",
       "      <td>0.955355</td>\n",
       "    </tr>\n",
       "    <tr>\n",
       "      <th>3</th>\n",
       "      <td>Atlántico</td>\n",
       "      <td>Urbana</td>\n",
       "      <td>8</td>\n",
       "      <td>20-49</td>\n",
       "      <td>1.100.761</td>\n",
       "      <td>1.184</td>\n",
       "      <td>0.001076</td>\n",
       "      <td>0.912531</td>\n",
       "      <td>Atlántico</td>\n",
       "      <td>123.0</td>\n",
       "      <td>444.0</td>\n",
       "      <td>0.277027</td>\n",
       "      <td>1.000000</td>\n",
       "    </tr>\n",
       "    <tr>\n",
       "      <th>4</th>\n",
       "      <td>Magdalena</td>\n",
       "      <td>Urbana</td>\n",
       "      <td>47</td>\n",
       "      <td>20-49</td>\n",
       "      <td>553.066</td>\n",
       "      <td>569</td>\n",
       "      <td>0.001029</td>\n",
       "      <td>0.872818</td>\n",
       "      <td>Magdalena</td>\n",
       "      <td>108.0</td>\n",
       "      <td>432.0</td>\n",
       "      <td>0.250000</td>\n",
       "      <td>0.902439</td>\n",
       "    </tr>\n",
       "  </tbody>\n",
       "</table>\n",
       "</div>"
      ],
      "text/plain": [
       "      Departamento Categoria  Cod_ Dpto Grupo de edad  \\\n",
       "0          Quindío    Urbana         63         20-49   \n",
       "1        Risaralda    Urbana         66         20-49   \n",
       "2  Valle del Cauca    Urbana         76         20-49   \n",
       "3        Atlántico    Urbana          8         20-49   \n",
       "4        Magdalena    Urbana         47         20-49   \n",
       "\n",
       "  Población Ambos Sexos 2018 Defunciones Ambos Sexos 2018  TM Ambos Sexos  \\\n",
       "0                    229.910                          271        0.001179   \n",
       "1                    405.408                          463        0.001142   \n",
       "2                  1.868.737                        2.086        0.001116   \n",
       "3                  1.100.761                        1.184        0.001076   \n",
       "4                    553.066                          569        0.001029   \n",
       "\n",
       "   tm_normalized   Location_clean  healthy_tweets  Total_tweets       vmd  \\\n",
       "0       1.000000          Quindío            82.0         336.0  0.244048   \n",
       "1       0.968896        Risaralda            79.0         420.0  0.188095   \n",
       "2       0.947010  Valle del Cauca           167.0         631.0  0.264659   \n",
       "3       0.912531        Atlántico           123.0         444.0  0.277027   \n",
       "4       0.872818        Magdalena           108.0         432.0  0.250000   \n",
       "\n",
       "   vmd_normalized  \n",
       "0        0.880952  \n",
       "1        0.678978  \n",
       "2        0.955355  \n",
       "3        1.000000  \n",
       "4        0.902439  "
      ]
     },
     "execution_count": 172,
     "metadata": {},
     "output_type": "execute_result"
    }
   ],
   "source": [
    "merge.head()"
   ]
  },
  {
   "cell_type": "markdown",
   "metadata": {},
   "source": [
    "### Pearson Correlation"
   ]
  },
  {
   "cell_type": "code",
   "execution_count": 173,
   "metadata": {},
   "outputs": [
    {
     "data": {
      "text/html": [
       "<div>\n",
       "<style scoped>\n",
       "    .dataframe tbody tr th:only-of-type {\n",
       "        vertical-align: middle;\n",
       "    }\n",
       "\n",
       "    .dataframe tbody tr th {\n",
       "        vertical-align: top;\n",
       "    }\n",
       "\n",
       "    .dataframe thead th {\n",
       "        text-align: right;\n",
       "    }\n",
       "</style>\n",
       "<table border=\"1\" class=\"dataframe\">\n",
       "  <thead>\n",
       "    <tr style=\"text-align: right;\">\n",
       "      <th></th>\n",
       "      <th>tm_normalized</th>\n",
       "      <th>vmd_normalized</th>\n",
       "    </tr>\n",
       "  </thead>\n",
       "  <tbody>\n",
       "    <tr>\n",
       "      <th>tm_normalized</th>\n",
       "      <td>1.00000</td>\n",
       "      <td>0.27212</td>\n",
       "    </tr>\n",
       "    <tr>\n",
       "      <th>vmd_normalized</th>\n",
       "      <td>0.27212</td>\n",
       "      <td>1.00000</td>\n",
       "    </tr>\n",
       "  </tbody>\n",
       "</table>\n",
       "</div>"
      ],
      "text/plain": [
       "                tm_normalized  vmd_normalized\n",
       "tm_normalized         1.00000         0.27212\n",
       "vmd_normalized        0.27212         1.00000"
      ]
     },
     "execution_count": 173,
     "metadata": {},
     "output_type": "execute_result"
    }
   ],
   "source": [
    "merge[[\"Departamento\",\"tm_normalized\",\"vmd_normalized\"]].corr()"
   ]
  },
  {
   "cell_type": "code",
   "execution_count": 175,
   "metadata": {},
   "outputs": [
    {
     "data": {
      "text/html": [
       "<div>\n",
       "<style scoped>\n",
       "    .dataframe tbody tr th:only-of-type {\n",
       "        vertical-align: middle;\n",
       "    }\n",
       "\n",
       "    .dataframe tbody tr th {\n",
       "        vertical-align: top;\n",
       "    }\n",
       "\n",
       "    .dataframe thead th {\n",
       "        text-align: right;\n",
       "    }\n",
       "</style>\n",
       "<table border=\"1\" class=\"dataframe\">\n",
       "  <thead>\n",
       "    <tr style=\"text-align: right;\">\n",
       "      <th></th>\n",
       "      <th>tm_normalized</th>\n",
       "      <th>vmd_normalized</th>\n",
       "    </tr>\n",
       "  </thead>\n",
       "  <tbody>\n",
       "    <tr>\n",
       "      <th>tm_normalized</th>\n",
       "      <td>1.000000</td>\n",
       "      <td>0.556323</td>\n",
       "    </tr>\n",
       "    <tr>\n",
       "      <th>vmd_normalized</th>\n",
       "      <td>0.556323</td>\n",
       "      <td>1.000000</td>\n",
       "    </tr>\n",
       "  </tbody>\n",
       "</table>\n",
       "</div>"
      ],
      "text/plain": [
       "                tm_normalized  vmd_normalized\n",
       "tm_normalized        1.000000        0.556323\n",
       "vmd_normalized       0.556323        1.000000"
      ]
     },
     "execution_count": 175,
     "metadata": {},
     "output_type": "execute_result"
    }
   ],
   "source": [
    "urban=merge[merge.Categoria == 'Urbana']; urban[[\"tm_normalized\",\"vmd_normalized\"]].corr()"
   ]
  },
  {
   "cell_type": "code",
   "execution_count": 177,
   "metadata": {},
   "outputs": [
    {
     "data": {
      "text/html": [
       "<div>\n",
       "<style scoped>\n",
       "    .dataframe tbody tr th:only-of-type {\n",
       "        vertical-align: middle;\n",
       "    }\n",
       "\n",
       "    .dataframe tbody tr th {\n",
       "        vertical-align: top;\n",
       "    }\n",
       "\n",
       "    .dataframe thead th {\n",
       "        text-align: right;\n",
       "    }\n",
       "</style>\n",
       "<table border=\"1\" class=\"dataframe\">\n",
       "  <thead>\n",
       "    <tr style=\"text-align: right;\">\n",
       "      <th></th>\n",
       "      <th>tm_normalized</th>\n",
       "      <th>vmd_normalized</th>\n",
       "    </tr>\n",
       "  </thead>\n",
       "  <tbody>\n",
       "    <tr>\n",
       "      <th>tm_normalized</th>\n",
       "      <td>1.000000</td>\n",
       "      <td>0.735476</td>\n",
       "    </tr>\n",
       "    <tr>\n",
       "      <th>vmd_normalized</th>\n",
       "      <td>0.735476</td>\n",
       "      <td>1.000000</td>\n",
       "    </tr>\n",
       "  </tbody>\n",
       "</table>\n",
       "</div>"
      ],
      "text/plain": [
       "                tm_normalized  vmd_normalized\n",
       "tm_normalized        1.000000        0.735476\n",
       "vmd_normalized       0.735476        1.000000"
      ]
     },
     "execution_count": 177,
     "metadata": {},
     "output_type": "execute_result"
    }
   ],
   "source": [
    "rural=merge[merge.Categoria == 'Rural']; rural[[\"tm_normalized\",\"vmd_normalized\"]].corr()"
   ]
  },
  {
   "cell_type": "code",
   "execution_count": 178,
   "metadata": {},
   "outputs": [
    {
     "data": {
      "text/html": [
       "<div>\n",
       "<style scoped>\n",
       "    .dataframe tbody tr th:only-of-type {\n",
       "        vertical-align: middle;\n",
       "    }\n",
       "\n",
       "    .dataframe tbody tr th {\n",
       "        vertical-align: top;\n",
       "    }\n",
       "\n",
       "    .dataframe thead th {\n",
       "        text-align: right;\n",
       "    }\n",
       "</style>\n",
       "<table border=\"1\" class=\"dataframe\">\n",
       "  <thead>\n",
       "    <tr style=\"text-align: right;\">\n",
       "      <th></th>\n",
       "      <th>tm_normalized</th>\n",
       "      <th>vmd_normalized</th>\n",
       "    </tr>\n",
       "  </thead>\n",
       "  <tbody>\n",
       "    <tr>\n",
       "      <th>tm_normalized</th>\n",
       "      <td>1.000000</td>\n",
       "      <td>-0.066282</td>\n",
       "    </tr>\n",
       "    <tr>\n",
       "      <th>vmd_normalized</th>\n",
       "      <td>-0.066282</td>\n",
       "      <td>1.000000</td>\n",
       "    </tr>\n",
       "  </tbody>\n",
       "</table>\n",
       "</div>"
      ],
      "text/plain": [
       "                tm_normalized  vmd_normalized\n",
       "tm_normalized        1.000000       -0.066282\n",
       "vmd_normalized      -0.066282        1.000000"
      ]
     },
     "execution_count": 178,
     "metadata": {},
     "output_type": "execute_result"
    }
   ],
   "source": [
    "intermedia=merge[merge.Categoria == 'Intermedia']; intermedia[[\"tm_normalized\",\"vmd_normalized\"]].corr()"
   ]
  },
  {
   "cell_type": "code",
   "execution_count": null,
   "metadata": {},
   "outputs": [],
   "source": [
    "! pip install seaborn"
   ]
  },
  {
   "cell_type": "code",
   "execution_count": 42,
   "metadata": {},
   "outputs": [],
   "source": [
    "import matplotlib.pyplot as plt\n",
    "import seaborn as sns\n",
    "%matplotlib inline "
   ]
  },
  {
   "cell_type": "code",
   "execution_count": 179,
   "metadata": {},
   "outputs": [
    {
     "data": {
      "text/plain": [
       "(0, 1.039961366724442)"
      ]
     },
     "execution_count": 179,
     "metadata": {},
     "output_type": "execute_result"
    },
    {
     "data": {
      "image/png": "[encoded data removed]",
      "text/plain": [
       "<Figure size 432x288 with 1 Axes>"
      ]
     },
     "metadata": {
      "needs_background": "light"
     },
     "output_type": "display_data"
    }
   ],
   "source": [
    "sns.regplot(x=\"vmd_normalized\", y=\"tm_normalized\", data=merge)\n",
    "plt.ylim(0,)"
   ]
  },
  {
   "cell_type": "code",
   "execution_count": 147,
   "metadata": {},
   "outputs": [
    {
     "data": {
      "image/png": "[encoded data removed]",
      "text/plain": [
       "<Figure size 540x360 with 1 Axes>"
      ]
     },
     "metadata": {
      "needs_background": "light"
     },
     "output_type": "display_data"
    }
   ],
   "source": [
    "ax=sns.lmplot(x=\"vmd_normalized\", y=\"tm_normalized\", data=merge, hue=\"Categoria\", x_ci=10 , legend_out = False, height=5, aspect=1.5).set(ylim=(0.5, 1.2), xlabel='Valor del modelo_normalizado', ylabel='Tasa de Mortalidad_normalizada')\n"
   ]
  },
  {
   "cell_type": "markdown",
   "metadata": {},
   "source": [
    "# 3. Summary"
   ]
  },
  {
   "cell_type": "code",
   "execution_count": 49,
   "metadata": {},
   "outputs": [],
   "source": [
    "import pandas as pd\n",
    "from scipy import stats\n",
    "from scipy.stats import spearmanr\n",
    "from scipy.stats import kendalltau"
   ]
  },
  {
   "cell_type": "code",
   "execution_count": null,
   "metadata": {},
   "outputs": [],
   "source": [
    "merge = pd.read_csv('datasets/Resultados_corr.csv', sep=';', decimal=\",\");merge.head()"
   ]
  },
  {
   "cell_type": "code",
   "execution_count": null,
   "metadata": {},
   "outputs": [],
   "source": [
    "urban=merge[merge.Category == 'Urbana']\n",
    "rural=merge[merge.Category == 'Rural']\n",
    "intermedia=merge[merge.Category == 'Intermedia']"
   ]
  },
  {
   "cell_type": "markdown",
   "metadata": {},
   "source": [
    "### Pearson Correlation"
   ]
  },
  {
   "cell_type": "code",
   "execution_count": 154,
   "metadata": {},
   "outputs": [
    {
     "name": "stdout",
     "output_type": "stream",
     "text": [
      "The Pearson Correlation Coefficient for all deparments is 0.2721203362704318  with a P-value of P = 0.13861959800894472\n"
     ]
    }
   ],
   "source": [
    "pearson_coef, p_value = stats.pearsonr(merge['vmd_normalized'], merge['tm_normalized'])\n",
    "print(\"The Pearson Correlation Coefficient for all deparments is\", pearson_coef, \" with a P-value of P =\", p_value) "
   ]
  },
  {
   "cell_type": "code",
   "execution_count": 89,
   "metadata": {},
   "outputs": [
    {
     "name": "stdout",
     "output_type": "stream",
     "text": [
      "The Pearson Correlation Coefficient for urban deparments is 0.5563229473826735  with a P-value of P = 0.03882496278700704\n"
     ]
    }
   ],
   "source": [
    "pearson_coef, p_value = stats.pearsonr(urban['vmd_normalized'], urban['tm_normalized'])\n",
    "print(\"The Pearson Correlation Coefficient for urban deparments is\", pearson_coef, \" with a P-value of P =\", p_value)  "
   ]
  },
  {
   "cell_type": "code",
   "execution_count": 155,
   "metadata": {},
   "outputs": [
    {
     "name": "stdout",
     "output_type": "stream",
     "text": [
      "The Pearson Correlation Coefficient for intermedial deparments is -0.06628169910815736  with a P-value of P = 0.8218802455867793\n"
     ]
    }
   ],
   "source": [
    "pearson_coef, p_value = stats.pearsonr(intermedia['vmd_normalized'], intermedia['tm_normalized'])\n",
    "print(\"The Pearson Correlation Coefficient for intermedial deparments is\", pearson_coef, \" with a P-value of P =\", p_value) "
   ]
  },
  {
   "cell_type": "code",
   "execution_count": 153,
   "metadata": {},
   "outputs": [
    {
     "name": "stdout",
     "output_type": "stream",
     "text": [
      "The Pearson Correlation Coefficient for rural deparments is 0.7354763162727772  with a P-value of P = 0.47391689397133485\n"
     ]
    }
   ],
   "source": [
    "pearson_coef, p_value = stats.pearsonr(rural['vmd_normalized'], rural['tm_normalized'])\n",
    "print(\"The Pearson Correlation Coefficient for rural deparments is\", pearson_coef, \" with a P-value of P =\", p_value) "
   ]
  },
  {
   "cell_type": "markdown",
   "metadata": {},
   "source": [
    "### Spearman Correlation"
   ]
  },
  {
   "cell_type": "code",
   "execution_count": 42,
   "metadata": {},
   "outputs": [
    {
     "name": "stdout",
     "output_type": "stream",
     "text": [
      "correlation=0.232661, p-value=0.207835\n"
     ]
    }
   ],
   "source": [
    "correlation, pval = spearmanr(merge[[\"tasa_mortalidad\",\"valor_modelo\"]])\n",
    "print(f'correlation={correlation:.6f}, p-value={pval:.6f}')"
   ]
  },
  {
   "cell_type": "code",
   "execution_count": 43,
   "metadata": {},
   "outputs": [
    {
     "name": "stdout",
     "output_type": "stream",
     "text": [
      "correlation=0.507692, p-value=0.063839\n"
     ]
    }
   ],
   "source": [
    "correlation, pval = spearmanr(urban[[\"tasa_mortalidad\",\"valor_modelo\"]])\n",
    "print(f'correlation={correlation:.6f}, p-value={pval:.6f}')"
   ]
  },
  {
   "cell_type": "code",
   "execution_count": 44,
   "metadata": {},
   "outputs": [
    {
     "name": "stdout",
     "output_type": "stream",
     "text": [
      "correlation=0.076923, p-value=0.793806\n"
     ]
    }
   ],
   "source": [
    "correlation, pval = spearmanr(intermedia[[\"tasa_mortalidad\",\"valor_modelo\"]])\n",
    "print(f'correlation={correlation:.6f}, p-value={pval:.6f}')"
   ]
  },
  {
   "cell_type": "code",
   "execution_count": 45,
   "metadata": {},
   "outputs": [
    {
     "name": "stdout",
     "output_type": "stream",
     "text": [
      "correlation=1.000000, p-value=0.000000\n"
     ]
    }
   ],
   "source": [
    "correlation, pval = spearmanr(rural[[\"tasa_mortalidad\",\"valor_modelo\"]])\n",
    "print(f'correlation={correlation:.6f}, p-value={pval:.6f}')"
   ]
  },
  {
   "cell_type": "markdown",
   "metadata": {},
   "source": [
    "### Kendall Correlation"
   ]
  },
  {
   "cell_type": "code",
   "execution_count": 52,
   "metadata": {},
   "outputs": [
    {
     "name": "stdout",
     "output_type": "stream",
     "text": [
      "correlation=0.178495, p-value=0.164704\n"
     ]
    }
   ],
   "source": [
    "correlation, pval = stats.kendalltau(merge[\"tasa_mortalidad\"],merge[\"valor_modelo\"])\n",
    "print(f'correlation={correlation:.6f}, p-value={pval:.6f}')"
   ]
  },
  {
   "cell_type": "code",
   "execution_count": 53,
   "metadata": {},
   "outputs": [
    {
     "name": "stdout",
     "output_type": "stream",
     "text": [
      "correlation=0.362637, p-value=0.079457\n"
     ]
    }
   ],
   "source": [
    "correlation, pval = stats.kendalltau(urban[\"tasa_mortalidad\"],urban[\"valor_modelo\"])\n",
    "print(f'correlation={correlation:.6f}, p-value={pval:.6f}')"
   ]
  },
  {
   "cell_type": "code",
   "execution_count": 55,
   "metadata": {},
   "outputs": [
    {
     "name": "stdout",
     "output_type": "stream",
     "text": [
      "correlation=0.076923, p-value=0.747189\n"
     ]
    }
   ],
   "source": [
    "correlation, pval = stats.kendalltau(intermedia[\"tasa_mortalidad\"],intermedia[\"valor_modelo\"])\n",
    "print(f'correlation={correlation:.6f}, p-value={pval:.6f}')"
   ]
  },
  {
   "cell_type": "code",
   "execution_count": 54,
   "metadata": {},
   "outputs": [
    {
     "name": "stdout",
     "output_type": "stream",
     "text": [
      "correlation=1.000000, p-value=0.333333\n"
     ]
    }
   ],
   "source": [
    "correlation, pval = stats.kendalltau(rural[\"tasa_mortalidad\"],rural[\"valor_modelo\"])\n",
    "print(f'correlation={correlation:.6f}, p-value={pval:.6f}')"
   ]
  }
 ],
 "metadata": {
  "kernelspec": {
   "display_name": "Python 3",
   "language": "python",
   "name": "python3"
  },
  "language_info": {
   "codemirror_mode": {
    "name": "ipython",
    "version": 3
   },
   "file_extension": ".py",
   "mimetype": "text/x-python",
   "name": "python",
   "nbconvert_exporter": "python",
   "pygments_lexer": "ipython3",
   "version": "3.7.6"
  }
 },
 "nbformat": 4,
 "nbformat_minor": 4
}
